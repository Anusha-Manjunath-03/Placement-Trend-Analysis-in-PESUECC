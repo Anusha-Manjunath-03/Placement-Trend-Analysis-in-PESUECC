{
 "cells": [
  {
   "cell_type": "code",
   "execution_count": 1,
   "metadata": {},
   "outputs": [],
   "source": [
    "import pandas as pd\n",
    "import seaborn as sns"
   ]
  },
  {
   "cell_type": "code",
   "execution_count": 2,
   "metadata": {},
   "outputs": [
    {
     "name": "stdout",
     "output_type": "stream",
     "text": [
      "Enter the placement year to visualize as graph(Format = YYYY): 2017\n"
     ]
    }
   ],
   "source": [
    "year = int(input('Enter the placement year to visualize as graph(Format = YYYY): '))"
   ]
  },
  {
   "cell_type": "code",
   "execution_count": 3,
   "metadata": {},
   "outputs": [
    {
     "name": "stdout",
     "output_type": "stream",
     "text": [
      "Enter the Tier Companies(Input = 1 or 2 or 3): 1\n"
     ]
    }
   ],
   "source": [
    "n = int(input('Enter the Tier Companies(Input = 1 or 2 or 3): '))"
   ]
  },
  {
   "cell_type": "code",
   "execution_count": 5,
   "metadata": {},
   "outputs": [],
   "source": [
    "if year == 2016:\n",
    "    if n == 1:\n",
    "        tier = pd.read_excel(\"C:/Tier1_2016.xlsx\")\n",
    "    elif n == 2:\n",
    "        tier = pd.read_excel(\"C:/Tier2_2016.xlsx\")\n",
    "    elif n == 3:\n",
    "        tier = pd.read_excel(\"C:/Tier3_2016.xlsx\")\n",
    "    else:\n",
    "        print(\"Inavlid Tier Company input..\")\n",
    "elif year == 2017:\n",
    "    if n == 1:\n",
    "        tier = pd.read_excel(\"C:/Tier1_2017.xlsx\")\n",
    "    elif n == 2:\n",
    "        tier = pd.read_excel(\"C:/Tier2_2017.xlsx\")\n",
    "    elif n == 3:\n",
    "        tier = pd.read_excel(\"C:/Tier3_2017.xlsx\")\n",
    "    else:\n",
    "        print(\"Inavlid Tier Company input..\")\n",
    "else:\n",
    "    print(\"Invalid placement year input. Enter 2016 or 2017 only..\")"
   ]
  },
  {
   "cell_type": "code",
   "execution_count": 6,
   "metadata": {},
   "outputs": [
    {
     "data": {
      "text/html": [
       "<div>\n",
       "<style scoped>\n",
       "    .dataframe tbody tr th:only-of-type {\n",
       "        vertical-align: middle;\n",
       "    }\n",
       "\n",
       "    .dataframe tbody tr th {\n",
       "        vertical-align: top;\n",
       "    }\n",
       "\n",
       "    .dataframe thead th {\n",
       "        text-align: right;\n",
       "    }\n",
       "</style>\n",
       "<table border=\"1\" class=\"dataframe\">\n",
       "  <thead>\n",
       "    <tr style=\"text-align: right;\">\n",
       "      <th></th>\n",
       "      <th>Sl no</th>\n",
       "      <th>Company</th>\n",
       "      <th>No. Of Students Selected</th>\n",
       "      <th>CS</th>\n",
       "      <th>IS</th>\n",
       "      <th>EC</th>\n",
       "      <th>Mech</th>\n",
       "      <th>Total</th>\n",
       "    </tr>\n",
       "  </thead>\n",
       "  <tbody>\n",
       "    <tr>\n",
       "      <th>0</th>\n",
       "      <td>1</td>\n",
       "      <td>Adobe</td>\n",
       "      <td>5</td>\n",
       "      <td>4.0</td>\n",
       "      <td>1.0</td>\n",
       "      <td>NaN</td>\n",
       "      <td>NaN</td>\n",
       "      <td>5</td>\n",
       "    </tr>\n",
       "    <tr>\n",
       "      <th>1</th>\n",
       "      <td>2</td>\n",
       "      <td>Adobe (She codes)</td>\n",
       "      <td>2</td>\n",
       "      <td>1.0</td>\n",
       "      <td>1.0</td>\n",
       "      <td>NaN</td>\n",
       "      <td>NaN</td>\n",
       "      <td>2</td>\n",
       "    </tr>\n",
       "    <tr>\n",
       "      <th>2</th>\n",
       "      <td>3</td>\n",
       "      <td>GE Digital</td>\n",
       "      <td>2</td>\n",
       "      <td>2.0</td>\n",
       "      <td>NaN</td>\n",
       "      <td>NaN</td>\n",
       "      <td>NaN</td>\n",
       "      <td>2</td>\n",
       "    </tr>\n",
       "    <tr>\n",
       "      <th>3</th>\n",
       "      <td>4</td>\n",
       "      <td>Societe Generale</td>\n",
       "      <td>2</td>\n",
       "      <td>1.0</td>\n",
       "      <td>1.0</td>\n",
       "      <td>NaN</td>\n",
       "      <td>NaN</td>\n",
       "      <td>2</td>\n",
       "    </tr>\n",
       "    <tr>\n",
       "      <th>4</th>\n",
       "      <td>5</td>\n",
       "      <td>Akamai</td>\n",
       "      <td>1</td>\n",
       "      <td>NaN</td>\n",
       "      <td>1.0</td>\n",
       "      <td>NaN</td>\n",
       "      <td>NaN</td>\n",
       "      <td>1</td>\n",
       "    </tr>\n",
       "    <tr>\n",
       "      <th>5</th>\n",
       "      <td>6</td>\n",
       "      <td>Endurance International Groups</td>\n",
       "      <td>1</td>\n",
       "      <td>1.0</td>\n",
       "      <td>NaN</td>\n",
       "      <td>NaN</td>\n",
       "      <td>NaN</td>\n",
       "      <td>1</td>\n",
       "    </tr>\n",
       "    <tr>\n",
       "      <th>6</th>\n",
       "      <td>7</td>\n",
       "      <td>Microsoft</td>\n",
       "      <td>1</td>\n",
       "      <td>1.0</td>\n",
       "      <td>NaN</td>\n",
       "      <td>NaN</td>\n",
       "      <td>NaN</td>\n",
       "      <td>1</td>\n",
       "    </tr>\n",
       "    <tr>\n",
       "      <th>7</th>\n",
       "      <td>8</td>\n",
       "      <td>Ola</td>\n",
       "      <td>1</td>\n",
       "      <td>1.0</td>\n",
       "      <td>NaN</td>\n",
       "      <td>NaN</td>\n",
       "      <td>NaN</td>\n",
       "      <td>1</td>\n",
       "    </tr>\n",
       "  </tbody>\n",
       "</table>\n",
       "</div>"
      ],
      "text/plain": [
       "   Sl no                         Company  No. Of Students Selected   CS   IS  \\\n",
       "0      1                           Adobe                         5  4.0  1.0   \n",
       "1      2               Adobe (She codes)                         2  1.0  1.0   \n",
       "2      3                      GE Digital                         2  2.0  NaN   \n",
       "3      4                Societe Generale                         2  1.0  1.0   \n",
       "4      5                          Akamai                         1  NaN  1.0   \n",
       "5      6  Endurance International Groups                         1  1.0  NaN   \n",
       "6      7                       Microsoft                         1  1.0  NaN   \n",
       "7      8                             Ola                         1  1.0  NaN   \n",
       "\n",
       "   EC  Mech  Total  \n",
       "0 NaN   NaN      5  \n",
       "1 NaN   NaN      2  \n",
       "2 NaN   NaN      2  \n",
       "3 NaN   NaN      2  \n",
       "4 NaN   NaN      1  \n",
       "5 NaN   NaN      1  \n",
       "6 NaN   NaN      1  \n",
       "7 NaN   NaN      1  "
      ]
     },
     "execution_count": 6,
     "metadata": {},
     "output_type": "execute_result"
    }
   ],
   "source": [
    "tier"
   ]
  },
  {
   "cell_type": "code",
   "execution_count": 7,
   "metadata": {},
   "outputs": [],
   "source": [
    "companies = list(tier['Company'])\n",
    "\n",
    "CS_placed = list(tier['CS'])\n",
    "\n",
    "EC_placed = list(tier['EC'])\n",
    "\n",
    "IS_placed = list(tier['IS'])\n",
    "\n",
    "Total_placed = list(tier['Total'])"
   ]
  },
  {
   "cell_type": "code",
   "execution_count": 8,
   "metadata": {},
   "outputs": [],
   "source": [
    "plotdata = pd.DataFrame({\"Total Placed\":Total_placed,\"CS Placed\":CS_placed,\"IS Placed\":IS_placed,\"EC Placed\":EC_placed},index = companies)"
   ]
  },
  {
   "cell_type": "code",
   "execution_count": 9,
   "metadata": {},
   "outputs": [
    {
     "data": {
      "text/plain": [
       "[Text(0, 0.5, 'No. of Students'), Text(0.5, 0, 'Companies')]"
      ]
     },
     "execution_count": 9,
     "metadata": {},
     "output_type": "execute_result"
    },
    {
     "data": {
      "image/png": "[encoded data removed]",
      "text/plain": [
       "<Figure size 1440x720 with 1 Axes>"
      ]
     },
     "metadata": {},
     "output_type": "display_data"
    }
   ],
   "source": [
    "sns.set_style('darkgrid')\n",
    "plotdata.plot(kind='bar',color = {'green','red','blue','yellow'},figsize = (20,10)).set(xlabel = 'Companies',ylabel = 'No. of Students')"
   ]
  },
  {
   "cell_type": "code",
   "execution_count": null,
   "metadata": {},
   "outputs": [],
   "source": []
  }
 ],
 "metadata": {
  "kernelspec": {
   "display_name": "Python 3",
   "language": "python",
   "name": "python3"
  },
  "language_info": {
   "codemirror_mode": {
    "name": "ipython",
    "version": 3
   },
   "file_extension": ".py",
   "mimetype": "text/x-python",
   "name": "python",
   "nbconvert_exporter": "python",
   "pygments_lexer": "ipython3",
   "version": "3.7.6"
  }
 },
 "nbformat": 4,
 "nbformat_minor": 4
}
